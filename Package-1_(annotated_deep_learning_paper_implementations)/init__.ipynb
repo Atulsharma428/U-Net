{
 "cells": [
  {
   "cell_type": "code",
   "execution_count": 1,
   "id": "b4c2d501",
   "metadata": {},
   "outputs": [
    {
     "data": {
      "text/plain": [
       "'\\n---\\ntitle: U-Net\\nsummary: >\\n    PyTorch implementation and tutorial of U-Net model.\\n---\\n\\n# U-Net\\n\\nThis is an implementation of the U-Net model from the paper,\\n[U-Net: Convolutional Networks for Biomedical Image Segmentation](https://papers.labml.ai/paper/1505.04597).\\n\\nU-Net consists of a contracting path and an expansive path.\\nThe contracting path is a series of convolutional layers and pooling layers,\\nwhere the resolution of the feature map gets progressively reduced.\\nExpansive path is a series of up-sampling layers and convolutional layers\\nwhere the resolution of the feature map gets progressively increased.\\n\\nAt every step in the expansive path the corresponding feature map from the contracting path\\nconcatenated with the current feature map.\\n\\n![U-Net diagram from paper](unet.png)\\n\\nHere is the [training code](experiment.html) for an experiment that trains a U-Net\\non [Carvana dataset](carvana.html).\\n'"
      ]
     },
     "execution_count": 1,
     "metadata": {},
     "output_type": "execute_result"
    }
   ],
   "source": [
    "\"\"\"\n",
    "---\n",
    "title: U-Net\n",
    "summary: >\n",
    "    PyTorch implementation and tutorial of U-Net model.\n",
    "---\n",
    "\n",
    "# U-Net\n",
    "\n",
    "This is an implementation of the U-Net model from the paper,\n",
    "[U-Net: Convolutional Networks for Biomedical Image Segmentation](https://papers.labml.ai/paper/1505.04597).\n",
    "\n",
    "U-Net consists of a contracting path and an expansive path.\n",
    "The contracting path is a series of convolutional layers and pooling layers,\n",
    "where the resolution of the feature map gets progressively reduced.\n",
    "Expansive path is a series of up-sampling layers and convolutional layers\n",
    "where the resolution of the feature map gets progressively increased.\n",
    "\n",
    "At every step in the expansive path the corresponding feature map from the contracting path\n",
    "concatenated with the current feature map.\n",
    "\n",
    "![U-Net diagram from paper](unet.png)\n",
    "\n",
    "Here is the [training code](experiment.html) for an experiment that trains a U-Net\n",
    "on [Carvana dataset](carvana.html).\n",
    "\"\"\""
   ]
  },
  {
   "cell_type": "code",
   "execution_count": null,
   "id": "c6c8c554",
   "metadata": {},
   "outputs": [],
   "source": []
  }
 ],
 "metadata": {
  "kernelspec": {
   "display_name": "Python 3 (ipykernel)",
   "language": "python",
   "name": "python3"
  },
  "language_info": {
   "codemirror_mode": {
    "name": "ipython",
    "version": 3
   },
   "file_extension": ".py",
   "mimetype": "text/x-python",
   "name": "python",
   "nbconvert_exporter": "python",
   "pygments_lexer": "ipython3",
   "version": "3.11.5"
  }
 },
 "nbformat": 4,
 "nbformat_minor": 5
}
